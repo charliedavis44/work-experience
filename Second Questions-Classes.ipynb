{
 "cells": [
  {
   "cell_type": "code",
   "execution_count": 24,
   "metadata": {
    "scrolled": false
   },
   "outputs": [
    {
     "data": {
      "text/html": [
       "<div>\n",
       "<style scoped>\n",
       "    .dataframe tbody tr th:only-of-type {\n",
       "        vertical-align: middle;\n",
       "    }\n",
       "\n",
       "    .dataframe tbody tr th {\n",
       "        vertical-align: top;\n",
       "    }\n",
       "\n",
       "    .dataframe thead th {\n",
       "        text-align: right;\n",
       "    }\n",
       "</style>\n",
       "<table border=\"1\" class=\"dataframe\">\n",
       "  <thead>\n",
       "    <tr style=\"text-align: right;\">\n",
       "      <th></th>\n",
       "      <th>Machine Type</th>\n",
       "      <th>Main Part Replaced</th>\n",
       "      <th>Assigned Maintenance Person</th>\n",
       "      <th>Labour Hours</th>\n",
       "    </tr>\n",
       "  </thead>\n",
       "  <tbody>\n",
       "    <tr>\n",
       "      <th>0</th>\n",
       "      <td>TRUCK 001</td>\n",
       "      <td>Engine</td>\n",
       "      <td>Donald Knuth</td>\n",
       "      <td>11</td>\n",
       "    </tr>\n",
       "    <tr>\n",
       "      <th>1</th>\n",
       "      <td>TRUCK 001</td>\n",
       "      <td>Engine</td>\n",
       "      <td>Donald Knuth</td>\n",
       "      <td>14</td>\n",
       "    </tr>\n",
       "    <tr>\n",
       "      <th>2</th>\n",
       "      <td>TRUCK 001</td>\n",
       "      <td>Engine</td>\n",
       "      <td>Donald Knuth</td>\n",
       "      <td>13</td>\n",
       "    </tr>\n",
       "    <tr>\n",
       "      <th>3</th>\n",
       "      <td>TRUCK 001</td>\n",
       "      <td>Engine</td>\n",
       "      <td>Donald Knuth</td>\n",
       "      <td>14</td>\n",
       "    </tr>\n",
       "    <tr>\n",
       "      <th>4</th>\n",
       "      <td>TRUCK 001</td>\n",
       "      <td>Engine</td>\n",
       "      <td>Donald Knuth</td>\n",
       "      <td>14</td>\n",
       "    </tr>\n",
       "    <tr>\n",
       "      <th>5</th>\n",
       "      <td>TRUCK 001</td>\n",
       "      <td>Engine</td>\n",
       "      <td>Donald Knuth</td>\n",
       "      <td>14</td>\n",
       "    </tr>\n",
       "    <tr>\n",
       "      <th>6</th>\n",
       "      <td>TRUCK 001</td>\n",
       "      <td>Engine</td>\n",
       "      <td>Donald Knuth</td>\n",
       "      <td>13</td>\n",
       "    </tr>\n",
       "    <tr>\n",
       "      <th>7</th>\n",
       "      <td>TRUCK 001</td>\n",
       "      <td>Engine</td>\n",
       "      <td>John Carmack</td>\n",
       "      <td>10</td>\n",
       "    </tr>\n",
       "    <tr>\n",
       "      <th>8</th>\n",
       "      <td>TRUCK 001</td>\n",
       "      <td>Engine</td>\n",
       "      <td>John Carmack</td>\n",
       "      <td>9</td>\n",
       "    </tr>\n",
       "    <tr>\n",
       "      <th>9</th>\n",
       "      <td>TRUCK 001</td>\n",
       "      <td>Engine</td>\n",
       "      <td>John Carmack</td>\n",
       "      <td>12</td>\n",
       "    </tr>\n",
       "    <tr>\n",
       "      <th>10</th>\n",
       "      <td>TRUCK 001</td>\n",
       "      <td>Engine</td>\n",
       "      <td>John Carmack</td>\n",
       "      <td>99</td>\n",
       "    </tr>\n",
       "    <tr>\n",
       "      <th>11</th>\n",
       "      <td>TRUCK 001</td>\n",
       "      <td>Engine</td>\n",
       "      <td>John Carmack</td>\n",
       "      <td>10</td>\n",
       "    </tr>\n",
       "    <tr>\n",
       "      <th>12</th>\n",
       "      <td>TRUCK 001</td>\n",
       "      <td>Engine</td>\n",
       "      <td>John Carmack</td>\n",
       "      <td>9</td>\n",
       "    </tr>\n",
       "    <tr>\n",
       "      <th>13</th>\n",
       "      <td>TRUCK 001</td>\n",
       "      <td>Engine</td>\n",
       "      <td>John Carmack</td>\n",
       "      <td>9</td>\n",
       "    </tr>\n",
       "  </tbody>\n",
       "</table>\n",
       "</div>"
      ],
      "text/plain": [
       "   Machine Type Main Part Replaced Assigned Maintenance Person  Labour Hours\n",
       "0     TRUCK 001             Engine                Donald Knuth            11\n",
       "1     TRUCK 001             Engine                Donald Knuth            14\n",
       "2     TRUCK 001             Engine                Donald Knuth            13\n",
       "3     TRUCK 001             Engine                Donald Knuth            14\n",
       "4     TRUCK 001             Engine                Donald Knuth            14\n",
       "5     TRUCK 001             Engine                Donald Knuth            14\n",
       "6     TRUCK 001             Engine                Donald Knuth            13\n",
       "7     TRUCK 001             Engine                John Carmack            10\n",
       "8     TRUCK 001             Engine                John Carmack             9\n",
       "9     TRUCK 001             Engine                John Carmack            12\n",
       "10    TRUCK 001             Engine                John Carmack            99\n",
       "11    TRUCK 001             Engine                John Carmack            10\n",
       "12    TRUCK 001             Engine                John Carmack             9\n",
       "13    TRUCK 001             Engine                John Carmack             9"
      ]
     },
     "execution_count": 24,
     "metadata": {},
     "output_type": "execute_result"
    }
   ],
   "source": [
    "import pandas\n",
    "data_frame = pandas.read_csv(\"Dataset/engine_work_orders_with_labour_hrs.csv\")\n",
    "data_frame"
   ]
  },
  {
   "cell_type": "code",
   "execution_count": 5,
   "metadata": {},
   "outputs": [
    {
     "name": "stdout",
     "output_type": "stream",
     "text": [
      "Donald\n",
      "John\n"
     ]
    },
    {
     "ename": "NameError",
     "evalue": "name 'data_frame' is not defined",
     "output_type": "error",
     "traceback": [
      "\u001b[0;31m---------------------------------------------------------------------------\u001b[0m",
      "\u001b[0;31mNameError\u001b[0m                                 Traceback (most recent call last)",
      "\u001b[0;32m<ipython-input-5-2f070e11a45f>\u001b[0m in \u001b[0;36m<module>\u001b[0;34m()\u001b[0m\n\u001b[1;32m     12\u001b[0m \u001b[0mdonald\u001b[0m\u001b[0;34m=\u001b[0m\u001b[0;34m[\u001b[0m\u001b[0;34m]\u001b[0m\u001b[0;34m\u001b[0m\u001b[0m\n\u001b[1;32m     13\u001b[0m \u001b[0mjohn\u001b[0m\u001b[0;34m=\u001b[0m\u001b[0;34m[\u001b[0m\u001b[0;34m]\u001b[0m\u001b[0;34m\u001b[0m\u001b[0m\n\u001b[0;32m---> 14\u001b[0;31m \u001b[0mdonald_jobs\u001b[0m\u001b[0;34m=\u001b[0m\u001b[0mlen\u001b[0m\u001b[0;34m(\u001b[0m\u001b[0mdata_frame\u001b[0m\u001b[0;34m[\u001b[0m\u001b[0mdata_frame\u001b[0m\u001b[0;34m[\u001b[0m\u001b[0;34m'Assigned Maintenance Person'\u001b[0m\u001b[0;34m]\u001b[0m\u001b[0;34m==\u001b[0m \u001b[0;34m\"Donald Knuth\"\u001b[0m\u001b[0;34m]\u001b[0m\u001b[0;34m)\u001b[0m\u001b[0;34m\u001b[0m\u001b[0m\n\u001b[0m\u001b[1;32m     15\u001b[0m \u001b[0mjohn_jobs\u001b[0m\u001b[0;34m=\u001b[0m\u001b[0mlen\u001b[0m\u001b[0;34m(\u001b[0m\u001b[0mdata_frame\u001b[0m\u001b[0;34m[\u001b[0m\u001b[0mdata_frame\u001b[0m\u001b[0;34m[\u001b[0m\u001b[0;34m'Assigned Maintenance Person'\u001b[0m\u001b[0;34m]\u001b[0m\u001b[0;34m==\u001b[0m \u001b[0;34m\"John Carmack\"\u001b[0m\u001b[0;34m]\u001b[0m\u001b[0;34m)\u001b[0m\u001b[0;34m\u001b[0m\u001b[0m\n\u001b[1;32m     16\u001b[0m \u001b[0;32mfor\u001b[0m \u001b[0mi\u001b[0m \u001b[0;32min\u001b[0m \u001b[0mrange\u001b[0m\u001b[0;34m(\u001b[0m\u001b[0mdonald_jobs\u001b[0m\u001b[0;34m)\u001b[0m\u001b[0;34m:\u001b[0m\u001b[0;34m\u001b[0m\u001b[0m\n",
      "\u001b[0;31mNameError\u001b[0m: name 'data_frame' is not defined"
     ]
    }
   ],
   "source": [
    "class Employee:\n",
    "    def __init__(self, name):\n",
    "        self.name = name\n",
    "        \n",
    "    def get_age(self):\n",
    "        return 123\n",
    "        \n",
    "emps = [ Employee(\"Donald\"), Employee(\"John\") ]\n",
    "print(emps[0].name)\n",
    "print(emps[1].name)\n",
    "    \n",
    "donald=[]\n",
    "john=[]\n",
    "donald_jobs=len(data_frame[data_frame['Assigned Maintenance Person']== \"Donald Knuth\"])\n",
    "john_jobs=len(data_frame[data_frame['Assigned Maintenance Person']== \"John Carmack\"])\n",
    "for i in range(donald_jobs):\n",
    "    donald.append(data_frame['Labour Hours'].values[i])\n",
    "for i in range(7,7+john_jobs):\n",
    "    john.append(data_frame['Labour Hours'].values[i])\n",
    "donald_mean=(sum(donald)/donald_jobs)\n",
    "john_mean=(sum(john)/john_jobs)\n",
    "print('Mean time taken:')\n",
    "print('Donald Knuth:'+str(donald_mean)[:4])\n",
    "print('John Carmack:'+str(john_mean)[:4])\n",
    "maximum=(max(donald_mean,john_mean))\n",
    "if maximum==john_mean:\n",
    "    print('Therefore Donald was the quickest ')\n",
    "else:\n",
    "    print('Therefore John was the quickest')\n",
    "\n"
   ]
  },
  {
   "cell_type": "code",
   "execution_count": 49,
   "metadata": {},
   "outputs": [
    {
     "name": "stdout",
     "output_type": "stream",
     "text": [
      "Median time taken(including outliers):\n",
      "Donald Knuth:14\n",
      "John Carmack:10\n"
     ]
    }
   ],
   "source": [
    "donald=sorted(donald)\n",
    "donald_median=donald[int(len(donald)/2)]\n",
    "john=sorted(john)\n",
    "john_median=john[int(len(john)/2)]\n",
    "print('Median time taken(including outliers):')\n",
    "print('Donald Knuth:'+str(donald_median))\n",
    "print('John Carmack:'+str(john_median))"
   ]
  },
  {
   "cell_type": "code",
   "execution_count": null,
   "metadata": {},
   "outputs": [],
   "source": [
    "#OUTLIERS\n",
    "#John\n",
    "for i in range(7,7+john_jobs)"
   ]
  }
 ],
 "metadata": {
  "kernelspec": {
   "display_name": "Python 3",
   "language": "python",
   "name": "python3"
  },
  "language_info": {
   "codemirror_mode": {
    "name": "ipython",
    "version": 3
   },
   "file_extension": ".py",
   "mimetype": "text/x-python",
   "name": "python",
   "nbconvert_exporter": "python",
   "pygments_lexer": "ipython3",
   "version": "3.6.5"
  }
 },
 "nbformat": 4,
 "nbformat_minor": 2
}
