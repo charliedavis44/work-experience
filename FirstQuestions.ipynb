{
 "cells": [
  {
   "cell_type": "code",
   "execution_count": 2,
   "metadata": {
    "scrolled": true
   },
   "outputs": [
    {
     "name": "stdout",
     "output_type": "stream",
     "text": [
      "  Machine Type Main Part Replaced Work Start Date\n",
      "0    TRUCK 001             Engine      18/06/2015\n",
      "1    TRUCK 001              Wheel      22/01/2015\n",
      "2    TRUCK 001             Engine      14/07/2017\n",
      "3    TRUCK 002             Engine      16/07/2016\n",
      "4    TRUCK 002   Air Conditioning      16/05/2017\n",
      "5    TRUCK 003             Engine      01/08/2017\n"
     ]
    }
   ],
   "source": [
    "print(data_frame)"
   ]
  },
  {
   "cell_type": "markdown",
   "metadata": {},
   "source": [
    "#Question 1\n",
    "   -\n",
    "   -Both of us had similar approach\n",
    "   -Created a list of number of orders \n",
    "   -Found the maximum of the list and the corresponding truck"
   ]
  },
  {
   "cell_type": "code",
   "execution_count": 3,
   "metadata": {},
   "outputs": [
    {
     "name": "stdout",
     "output_type": "stream",
     "text": [
      "[3, 2, 1]\n",
      "The Machine Type with the most orders is TRUCK 001: with 3 orders\n"
     ]
    }
   ],
   "source": [
    "#Question 1 my attempt\n",
    "\n",
    "import pandas\n",
    "data_frame = pandas.read_csv(\"Dataset/basic_work_orders.csv\")\n",
    "\n",
    "trk=[0,0,0]\n",
    "for i in range(3): \n",
    "    trk[i]=len(data_frame[data_frame['Machine Type'] == \"TRUCK 00\"+str(i+1)]) \n",
    "print(trk)\n",
    "num=max(trk)\n",
    "for i in range(3):\n",
    "    if trk[i]==num:\n",
    "        print('The Machine Type with the most orders is TRUCK 00' + str(i+1)+': with '+str(num)+' orders')\n",
    "\n"
   ]
  },
  {
   "cell_type": "code",
   "execution_count": 4,
   "metadata": {},
   "outputs": [
    {
     "name": "stdout",
     "output_type": "stream",
     "text": [
      "TRUCK 001: 3\n"
     ]
    }
   ],
   "source": [
    "#Question 1 Alex's better version- works for any number of trucks\n",
    "import pandas\n",
    "data_frame = pandas.read_csv(\"Dataset/basic_work_orders.csv\")\n",
    "\n",
    "machine_types = set(data_frame['Machine Type'].values)\n",
    "\n",
    "max_work_orders = -1\n",
    "max_work_orders_machine_type = \"\"\n",
    "\n",
    "for machine_type in machine_types:\n",
    "\n",
    "    rows = data_frame[data_frame['Machine Type'] == machine_type]\n",
    "    work_order_count = len(rows)\n",
    "    \n",
    "    if work_order_count > max_work_orders:\n",
    "        max_work_orders = work_order_count\n",
    "        max_work_orders_machine_type = machine_type\n",
    "        \n",
    "print(max_work_orders_machine_type + \": \" + str(max_work_orders))"
   ]
  },
  {
   "cell_type": "code",
   "execution_count": 5,
   "metadata": {},
   "outputs": [],
   "source": [
    "#Question 1 "
   ]
  },
  {
   "cell_type": "code",
   "execution_count": 6,
   "metadata": {},
   "outputs": [
    {
     "name": "stdout",
     "output_type": "stream",
     "text": [
      "The Machine Type with the least orders is TRUCK 003: with 1 orders\n"
     ]
    }
   ],
   "source": [
    "#Question 2 copy my first code\n",
    "trk=[0,0,0]\n",
    "for i in range(3): \n",
    "    trk[i]=len(data_frame[data_frame['Machine Type'] == \"TRUCK 00\"+str(i+1)]) \n",
    "num=min(trk)\n",
    "for i in range(3):\n",
    "    if trk[i]==num:\n",
    "        print('The Machine Type with the least orders is TRUCK 00' + str(i+1)+': with '+str(num)+' orders')\n",
    "\n"
   ]
  },
  {
   "cell_type": "code",
   "execution_count": 12,
   "metadata": {
    "scrolled": false
   },
   "outputs": [
    {
     "name": "stdout",
     "output_type": "stream",
     "text": [
      "Comparing: 3 > 3\n",
      "Comparing: 3 > 2\n",
      "Comparing: 2 > 1\n",
      "Comparing: 3 > 1\n",
      "Comparing: 1 > 1\n",
      "Comparing: 1 > 2\n",
      "Comparing: 2 > 3\n",
      "Comparing: 2 > 1\n",
      "Comparing: 1 > 1\n"
     ]
    },
    {
     "data": {
      "text/plain": [
       "[['TRUCK001', 3], ['TRUCK002', 2], ['TRUCK003', 1]]"
      ]
     },
     "execution_count": 12,
     "metadata": {},
     "output_type": "execute_result"
    }
   ],
   "source": [
    "# Question 3 sorted list\n",
    "\n",
    "truck_total=len(set((data_frame['Machine Type'].values)))\n",
    "order_count=[]\n",
    "truck_list=[]\n",
    "for i in range(truck_total):\n",
    "    order_count.append(len(data_frame[data_frame['Machine Type'] == \"TRUCK 00\"+str(i+1)]))\n",
    "    truck_list.append(len(data_frame[data_frame['Machine Type'] == \"TRUCK 00\"+str(i+1)]))\n",
    "    truck_list[i]=['TRUCK00'+str(i+1),order_count[i]]\n",
    "for i in range(len(order_count)):\n",
    "    for j in range(len(order_count)):\n",
    "        print(\"Comparing: \" + str(truck_list[i][1]) + \" > \" + str(truck_list[j][1]))\n",
    "        if truck_list[i][1] > truck_list[j][1]:\n",
    "            truck_list[i][1],truck_list[j][1] =  truck_list[j][1],truck_list[i][1]\n",
    "    \n",
    "truck_list\n",
    "    \n",
    "    \n"
   ]
  },
  {
   "cell_type": "code",
   "execution_count": 8,
   "metadata": {},
   "outputs": [
    {
     "name": "stdout",
     "output_type": "stream",
     "text": [
      "most engines repaired\n"
     ]
    }
   ],
   "source": [
    "#Question 4 which part was replaced the most first attempt\n",
    "\n",
    "engine_count = len(data_frame[data_frame['Main Part Replaced'] == \"Engine\"])\n",
    "wheel_count = len(data_frame[data_frame['Main Part Replaced'] == \"Wheel\"])\n",
    "aircon_count = len(data_frame[data_frame['Main Part Replaced'] == \"Air Conditioning\"])\n",
    "if engine_count > wheel_count and engine_count > aircon_count:\n",
    "    print ('most engines repaired')\n",
    "if wheel_count > engine_count and wheel_count > aircon_count:\n",
    "    print ('most wheels repaired')\n",
    "if aircon_count > engine_count and wheel_count < aircon_count:\n",
    "    print ('most air conditioning units repaired')"
   ]
  },
  {
   "cell_type": "code",
   "execution_count": null,
   "metadata": {},
   "outputs": [],
   "source": []
  },
  {
   "cell_type": "code",
   "execution_count": null,
   "metadata": {},
   "outputs": [],
   "source": []
  }
 ],
 "metadata": {
  "kernelspec": {
   "display_name": "Python 3",
   "language": "python",
   "name": "python3"
  },
  "language_info": {
   "codemirror_mode": {
    "name": "ipython",
    "version": 3
   },
   "file_extension": ".py",
   "mimetype": "text/x-python",
   "name": "python",
   "nbconvert_exporter": "python",
   "pygments_lexer": "ipython3",
   "version": "3.6.5"
  }
 },
 "nbformat": 4,
 "nbformat_minor": 2
}
