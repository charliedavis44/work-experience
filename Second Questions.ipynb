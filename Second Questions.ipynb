{
 "cells": [
  {
   "cell_type": "code",
   "execution_count": 2,
   "metadata": {
    "scrolled": true
   },
   "outputs": [
    {
     "data": {
      "text/html": [
       "<div>\n",
       "<style scoped>\n",
       "    .dataframe tbody tr th:only-of-type {\n",
       "        vertical-align: middle;\n",
       "    }\n",
       "\n",
       "    .dataframe tbody tr th {\n",
       "        vertical-align: top;\n",
       "    }\n",
       "\n",
       "    .dataframe thead th {\n",
       "        text-align: right;\n",
       "    }\n",
       "</style>\n",
       "<table border=\"1\" class=\"dataframe\">\n",
       "  <thead>\n",
       "    <tr style=\"text-align: right;\">\n",
       "      <th></th>\n",
       "      <th>Machine Type</th>\n",
       "      <th>Main Part Replaced</th>\n",
       "      <th>Assigned Maintenance Person</th>\n",
       "      <th>Labour Hours</th>\n",
       "    </tr>\n",
       "  </thead>\n",
       "  <tbody>\n",
       "    <tr>\n",
       "      <th>0</th>\n",
       "      <td>TRUCK 001</td>\n",
       "      <td>Engine</td>\n",
       "      <td>Donald Knuth</td>\n",
       "      <td>11</td>\n",
       "    </tr>\n",
       "    <tr>\n",
       "      <th>1</th>\n",
       "      <td>TRUCK 001</td>\n",
       "      <td>Engine</td>\n",
       "      <td>Donald Knuth</td>\n",
       "      <td>14</td>\n",
       "    </tr>\n",
       "    <tr>\n",
       "      <th>2</th>\n",
       "      <td>TRUCK 001</td>\n",
       "      <td>Engine</td>\n",
       "      <td>Donald Knuth</td>\n",
       "      <td>13</td>\n",
       "    </tr>\n",
       "    <tr>\n",
       "      <th>3</th>\n",
       "      <td>TRUCK 001</td>\n",
       "      <td>Engine</td>\n",
       "      <td>Donald Knuth</td>\n",
       "      <td>14</td>\n",
       "    </tr>\n",
       "    <tr>\n",
       "      <th>4</th>\n",
       "      <td>TRUCK 001</td>\n",
       "      <td>Engine</td>\n",
       "      <td>Donald Knuth</td>\n",
       "      <td>14</td>\n",
       "    </tr>\n",
       "    <tr>\n",
       "      <th>5</th>\n",
       "      <td>TRUCK 001</td>\n",
       "      <td>Engine</td>\n",
       "      <td>Donald Knuth</td>\n",
       "      <td>14</td>\n",
       "    </tr>\n",
       "    <tr>\n",
       "      <th>6</th>\n",
       "      <td>TRUCK 001</td>\n",
       "      <td>Engine</td>\n",
       "      <td>Donald Knuth</td>\n",
       "      <td>13</td>\n",
       "    </tr>\n",
       "    <tr>\n",
       "      <th>7</th>\n",
       "      <td>TRUCK 001</td>\n",
       "      <td>Engine</td>\n",
       "      <td>John Carmack</td>\n",
       "      <td>10</td>\n",
       "    </tr>\n",
       "    <tr>\n",
       "      <th>8</th>\n",
       "      <td>TRUCK 001</td>\n",
       "      <td>Engine</td>\n",
       "      <td>John Carmack</td>\n",
       "      <td>9</td>\n",
       "    </tr>\n",
       "    <tr>\n",
       "      <th>9</th>\n",
       "      <td>TRUCK 001</td>\n",
       "      <td>Engine</td>\n",
       "      <td>John Carmack</td>\n",
       "      <td>12</td>\n",
       "    </tr>\n",
       "    <tr>\n",
       "      <th>10</th>\n",
       "      <td>TRUCK 001</td>\n",
       "      <td>Engine</td>\n",
       "      <td>John Carmack</td>\n",
       "      <td>99</td>\n",
       "    </tr>\n",
       "    <tr>\n",
       "      <th>11</th>\n",
       "      <td>TRUCK 001</td>\n",
       "      <td>Engine</td>\n",
       "      <td>John Carmack</td>\n",
       "      <td>10</td>\n",
       "    </tr>\n",
       "    <tr>\n",
       "      <th>12</th>\n",
       "      <td>TRUCK 001</td>\n",
       "      <td>Engine</td>\n",
       "      <td>John Carmack</td>\n",
       "      <td>9</td>\n",
       "    </tr>\n",
       "    <tr>\n",
       "      <th>13</th>\n",
       "      <td>TRUCK 001</td>\n",
       "      <td>Engine</td>\n",
       "      <td>John Carmack</td>\n",
       "      <td>9</td>\n",
       "    </tr>\n",
       "  </tbody>\n",
       "</table>\n",
       "</div>"
      ],
      "text/plain": [
       "   Machine Type Main Part Replaced Assigned Maintenance Person  Labour Hours\n",
       "0     TRUCK 001             Engine                Donald Knuth            11\n",
       "1     TRUCK 001             Engine                Donald Knuth            14\n",
       "2     TRUCK 001             Engine                Donald Knuth            13\n",
       "3     TRUCK 001             Engine                Donald Knuth            14\n",
       "4     TRUCK 001             Engine                Donald Knuth            14\n",
       "5     TRUCK 001             Engine                Donald Knuth            14\n",
       "6     TRUCK 001             Engine                Donald Knuth            13\n",
       "7     TRUCK 001             Engine                John Carmack            10\n",
       "8     TRUCK 001             Engine                John Carmack             9\n",
       "9     TRUCK 001             Engine                John Carmack            12\n",
       "10    TRUCK 001             Engine                John Carmack            99\n",
       "11    TRUCK 001             Engine                John Carmack            10\n",
       "12    TRUCK 001             Engine                John Carmack             9\n",
       "13    TRUCK 001             Engine                John Carmack             9"
      ]
     },
     "execution_count": 2,
     "metadata": {},
     "output_type": "execute_result"
    }
   ],
   "source": [
    "import pandas\n",
    "import math\n",
    "import numpy\n",
    "data_frame = pandas.read_csv(\"Dataset/engine_work_orders_with_labour_hrs.csv\")\n",
    "data_frame"
   ]
  },
  {
   "cell_type": "code",
   "execution_count": 3,
   "metadata": {},
   "outputs": [
    {
     "name": "stdout",
     "output_type": "stream",
     "text": [
      "Mean time taken:\n",
      "Donald Knuth:13.2\n",
      "John Carmack:22.5\n",
      "Therefore Donald was the quickest \n"
     ]
    }
   ],
   "source": [
    "donald=[]\n",
    "john=[]\n",
    "donald_jobs=len(data_frame[data_frame['Assigned Maintenance Person']== \"Donald Knuth\"])\n",
    "john_jobs=len(data_frame[data_frame['Assigned Maintenance Person']== \"John Carmack\"])\n",
    "for i in range(donald_jobs):\n",
    "    donald.append(data_frame['Labour Hours'].values[i])\n",
    "for i in range(7,7+john_jobs):\n",
    "    john.append(data_frame['Labour Hours'].values[i])\n",
    "donald_mean=numpy.mean(donald)\n",
    "john_mean=numpy.mean(john)\n",
    "print('Mean time taken:')\n",
    "print('Donald Knuth:'+str(donald_mean)[:4])\n",
    "print('John Carmack:'+str(john_mean)[:4])\n",
    "maximum=(max(donald_mean,john_mean))\n",
    "if maximum==john_mean:\n",
    "    print('Therefore Donald was the quickest ')\n",
    "else:\n",
    "    print('Therefore John was the quickest')\n",
    "\n"
   ]
  },
  {
   "cell_type": "code",
   "execution_count": 4,
   "metadata": {},
   "outputs": [
    {
     "name": "stdout",
     "output_type": "stream",
     "text": [
      "Median time taken(including outliers):\n",
      "Donald Knuth:14\n",
      "John Carmack:10\n"
     ]
    }
   ],
   "source": [
    "#Median including outliers\n",
    "donald=sorted(donald)\n",
    "donald_median=donald[int(len(donald)/2)]\n",
    "john=sorted(john)\n",
    "john_median=john[int(len(john)/2)]\n",
    "print('Median time taken(including outliers):')\n",
    "print('Donald Knuth:'+str(donald_median))\n",
    "print('John Carmack:'+str(john_median))"
   ]
  },
  {
   "cell_type": "code",
   "execution_count": 5,
   "metadata": {},
   "outputs": [
    {
     "name": "stdout",
     "output_type": "stream",
     "text": [
      "JOHN: [9, 9, 9, 10, 10, 12, 99]\n",
      "99 is an outlier\n",
      "With outliers removed: [9, 9, 9, 10, 10, 12]\n",
      "JOHN: [11, 13, 13, 14, 14, 14, 14]\n",
      "11 is an outlier\n",
      "With outliers removed: [13, 13, 14, 14, 14, 14]\n"
     ]
    }
   ],
   "source": [
    "#OUTLIERS\n",
    "john_std = numpy.std(john)\n",
    "print('JOHN: ' + str(john))\n",
    "john_clean=john.copy()\n",
    "\n",
    "for i in range(len(john)):\n",
    "    if john[i]> john_mean + john_std  or  john[i]< john_mean- john_std:\n",
    "        print(str(john[i]) + \" is an outlier\")\n",
    "        del john_clean[i]\n",
    "print(\"With outliers removed: \" + str(john_clean))\n",
    "\n",
    "donald_std = numpy.std(donald)\n",
    "print('JOHN: ' + str(donald))\n",
    "donald_clean=donald.copy()\n",
    "\n",
    "for i in range(len(donald)):\n",
    "    if donald[i]> donald_mean + donald_std  or  donald[i]< donald_mean- donald_std:\n",
    "        print(str(donald[i]) + \" is an outlier\")\n",
    "        del donald_clean[i]\n",
    "print(\"With outliers removed: \" + str(donald_clean)) \n",
    "\n",
    "\n",
    "\n",
    "    "
   ]
  },
  {
   "cell_type": "code",
   "execution_count": 6,
   "metadata": {},
   "outputs": [
    {
     "name": "stdout",
     "output_type": "stream",
     "text": [
      "John: [9, 9, 9, 10, 10, 12, 99]\n",
      "99 is an outlier\n",
      "With outliers removed: [9, 9, 9, 10, 10, 12]\n",
      "Donald: [11, 13, 13, 14, 14, 14, 14]\n",
      "11 is an outlier\n",
      "With outliers removed: [13, 13, 14, 14, 14, 14]\n"
     ]
    }
   ],
   "source": [
    "#Outliers using function 'clean()' which takes the list, their name, sd and mean as parameters\n",
    "def clean(name, array,mean,std):\n",
    "    print(name + ': ' + str(array))\n",
    "    array_clean = array.copy()\n",
    "    \n",
    "    for i in range(len(array)):\n",
    "        if array[i]> mean + std  or  array[i]< mean- std:\n",
    "            print(str(array[i]) + \" is an outlier\")\n",
    "            del array_clean[i]\n",
    "    print(\"With outliers removed: \" + str(array_clean))\n",
    "    return array_clean\n",
    "\n",
    "john_clean = clean(\"John\", john,john_mean,john_std)\n",
    "donald_clean = clean(\"Donald\", donald,donald_mean,donald_std)\n"
   ]
  },
  {
   "cell_type": "code",
   "execution_count": 7,
   "metadata": {},
   "outputs": [],
   "source": [
    "john_clean_mean = numpy.mean(john_clean)\n",
    "donald_clean_mean = numpy.mean(donald_clean)\n",
    "john_clean_median = numpy.median(john_clean)\n",
    "donald_clean_median = numpy.median(donald_clean)\n",
    "print(john_clean_mean)\n",
    "print(john_clean_median)\n",
    "print(donald_clean_mean)\n",
    "print(donald_clean_median) \n"
   ]
  },
  {
   "cell_type": "code",
   "execution_count": 11,
   "metadata": {},
   "outputs": [
    {
     "data": {
      "text/plain": [
       "<matplotlib.legend.Legend at 0x10d6843c8>"
      ]
     },
     "execution_count": 11,
     "metadata": {},
     "output_type": "execute_result"
    },
    {
     "data": {
      "image/png": "[encoded data removed]",
      "text/plain": [
       "<Figure size 432x288 with 1 Axes>"
      ]
     },
     "metadata": {},
     "output_type": "display_data"
    }
   ],
   "source": [
    "# QUESTION 7\n",
    "\n",
    "donald_metrics = (13.2857, 14, 13.6667, 14)\n",
    "john_metrics = (22.5714, 10, 9.833, 9.5)\n",
    "\n",
    "ind = np.arange(len(donald_metrics))  \n",
    "width = 0.35  \n",
    "\n",
    "fig, ax = plt.subplots()\n",
    "rects1 = ax.bar(ind - width/2, donald_metrics, width,\n",
    "                color='SkyBlue', label='Donald')\n",
    "rects2 = ax.bar(ind + width/2, john_metrics, width,\n",
    "                color='IndianRed', label='John')\n",
    "\n",
    "\n",
    "ax.set_ylabel('Labour Hours')\n",
    "ax.set_title('Labour Hour Metrics')\n",
    "ax.set_xticklabels(('', '', 'ALH', '',  'MDLH','', 'CALH', '', 'CMDLH'))\n",
    "\n",
    "ax.legend()\n",
    "    \n",
    "\n",
    "    \n"
   ]
  },
  {
   "cell_type": "code",
   "execution_count": null,
   "metadata": {},
   "outputs": [],
   "source": []
  },
  {
   "cell_type": "code",
   "execution_count": null,
   "metadata": {},
   "outputs": [],
   "source": []
  },
  {
   "cell_type": "code",
   "execution_count": null,
   "metadata": {},
   "outputs": [],
   "source": []
  },
  {
   "cell_type": "code",
   "execution_count": null,
   "metadata": {},
   "outputs": [],
   "source": []
  }
 ],
 "metadata": {
  "kernelspec": {
   "display_name": "Python 3",
   "language": "python",
   "name": "python3"
  },
  "language_info": {
   "codemirror_mode": {
    "name": "ipython",
    "version": 3
   },
   "file_extension": ".py",
   "mimetype": "text/x-python",
   "name": "python",
   "nbconvert_exporter": "python",
   "pygments_lexer": "ipython3",
   "version": "3.6.5"
  }
 },
 "nbformat": 4,
 "nbformat_minor": 2
}
