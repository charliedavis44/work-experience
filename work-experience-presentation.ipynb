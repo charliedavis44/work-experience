{
 "cells": [
  {
   "cell_type": "code",
   "execution_count": 2,
   "metadata": {},
   "outputs": [
    {
     "data": {
      "text/html": [
       "<div>\n",
       "<style scoped>\n",
       "    .dataframe tbody tr th:only-of-type {\n",
       "        vertical-align: middle;\n",
       "    }\n",
       "\n",
       "    .dataframe tbody tr th {\n",
       "        vertical-align: top;\n",
       "    }\n",
       "\n",
       "    .dataframe thead th {\n",
       "        text-align: right;\n",
       "    }\n",
       "</style>\n",
       "<table border=\"1\" class=\"dataframe\">\n",
       "  <thead>\n",
       "    <tr style=\"text-align: right;\">\n",
       "      <th></th>\n",
       "      <th>Machine Type</th>\n",
       "      <th>Main Part Replaced</th>\n",
       "      <th>Work Start Date</th>\n",
       "    </tr>\n",
       "  </thead>\n",
       "  <tbody>\n",
       "    <tr>\n",
       "      <th>0</th>\n",
       "      <td>TRUCK 001</td>\n",
       "      <td>Engine</td>\n",
       "      <td>18/06/2015</td>\n",
       "    </tr>\n",
       "    <tr>\n",
       "      <th>1</th>\n",
       "      <td>TRUCK 001</td>\n",
       "      <td>Wheel</td>\n",
       "      <td>22/01/2015</td>\n",
       "    </tr>\n",
       "    <tr>\n",
       "      <th>2</th>\n",
       "      <td>TRUCK 001</td>\n",
       "      <td>Engine</td>\n",
       "      <td>14/07/2017</td>\n",
       "    </tr>\n",
       "    <tr>\n",
       "      <th>3</th>\n",
       "      <td>TRUCK 002</td>\n",
       "      <td>Engine</td>\n",
       "      <td>16/07/2016</td>\n",
       "    </tr>\n",
       "    <tr>\n",
       "      <th>4</th>\n",
       "      <td>TRUCK 002</td>\n",
       "      <td>Air Conditioning</td>\n",
       "      <td>16/05/2017</td>\n",
       "    </tr>\n",
       "    <tr>\n",
       "      <th>5</th>\n",
       "      <td>TRUCK 003</td>\n",
       "      <td>Engine</td>\n",
       "      <td>01/08/2017</td>\n",
       "    </tr>\n",
       "  </tbody>\n",
       "</table>\n",
       "</div>"
      ],
      "text/plain": [
       "  Machine Type Main Part Replaced Work Start Date\n",
       "0    TRUCK 001             Engine      18/06/2015\n",
       "1    TRUCK 001              Wheel      22/01/2015\n",
       "2    TRUCK 001             Engine      14/07/2017\n",
       "3    TRUCK 002             Engine      16/07/2016\n",
       "4    TRUCK 002   Air Conditioning      16/05/2017\n",
       "5    TRUCK 003             Engine      01/08/2017"
      ]
     },
     "execution_count": 2,
     "metadata": {},
     "output_type": "execute_result"
    }
   ],
   "source": [
    "import pandas\n",
    "import statistics\n",
    "import numpy as np\n",
    "\n",
    "data_frame = pandas.read_csv(\"Dataset/basic_work_orders.csv\")\n",
    "data_frame"
   ]
  },
  {
   "cell_type": "markdown",
   "metadata": {},
   "source": [
    "#Question 1\n",
    "   -Both of us had similar approach\n",
    "   -Created a list of number of orders \n",
    "   -Found the maximum of the list and the corresponding truck\n",
    " PROBLEMS:\n",
    "   -Does not work for a general number of trucks \n",
    "   "
   ]
  },
  {
   "cell_type": "code",
   "execution_count": 3,
   "metadata": {},
   "outputs": [
    {
     "name": "stdout",
     "output_type": "stream",
     "text": [
      "TRUCK 001 has the most work orders: 3\n"
     ]
    }
   ],
   "source": [
    "# Question 1 \n",
    "truck1_df = data_frame[data_frame['Machine Type'] == \"TRUCK 001\"]\n",
    "truck2_df = data_frame[data_frame['Machine Type'] == \"TRUCK 002\"]\n",
    "truck3_df = data_frame[data_frame['Machine Type'] == \"TRUCK 003\"]\n",
    "\n",
    "t1_wo = len(truck1_df)\n",
    "t2_wo = len(truck2_df)\n",
    "t3_wo = len(truck3_df)\n",
    "\n",
    "if t1_wo > t2_wo and t1_wo > t3_wo:\n",
    "    print(\"TRUCK 001 has the most work orders: \" + str(len(truck1_df)))\n",
    "if t2_wo > t1_wo and t2_wo >t3_wo:\n",
    "    print(\"TRUCK 002 has the most work orders: \" + str(len(truck2_df)))\n",
    "if t3_wo > t1_wo and t3_wo >t2_wo:\n",
    "    print(\"TRUCK 003 has the most work orders: \" + str(len(truck3_df)))"
   ]
  },
  {
   "cell_type": "code",
   "execution_count": 4,
   "metadata": {},
   "outputs": [
    {
     "name": "stdout",
     "output_type": "stream",
     "text": [
      "[3, 2, 1]\n",
      "The Machine Type with the most orders is TRUCK 001: with 3 orders\n"
     ]
    }
   ],
   "source": [
    "#Question 1 changed to fix problems.\n",
    "\n",
    "\n",
    "\n",
    "trk=[]\n",
    "for i in range(len(set(data_frame['Machine Type']))): \n",
    "    trk.append(len(data_frame[data_frame['Machine Type'] == \"TRUCK 00\"+str(i+1)])) \n",
    "print(trk)\n",
    "num=max(trk)\n",
    "for i in range(3):\n",
    "    if trk[i]==num:\n",
    "        print('The Machine Type with the most orders is TRUCK 00' + str(i+1)+': with '+str(num)+' orders')\n",
    "\n"
   ]
  },
  {
   "cell_type": "markdown",
   "metadata": {},
   "source": [
    "#Question 2\n",
    "    - very similar approach to question 1\n",
    "    PROBLEMS:\n",
    "    - Should have made a function for both questions"
   ]
  },
  {
   "cell_type": "code",
   "execution_count": 5,
   "metadata": {},
   "outputs": [
    {
     "name": "stdout",
     "output_type": "stream",
     "text": [
      "The Machine Type with the least orders is TRUCK 003: with 1 orders\n"
     ]
    }
   ],
   "source": [
    "#Question 2 copy my first code\n",
    "trk=[0,0,0]\n",
    "for i in range(3): \n",
    "    trk[i]=len(data_frame[data_frame['Machine Type'] == \"TRUCK 00\"+str(i+1)]) \n",
    "num=min(trk)\n",
    "for i in range(3):\n",
    "    if trk[i]==num:\n",
    "        print('The Machine Type with the least orders is TRUCK 00' + str(i+1)+': with '+str(num)+' orders')\n",
    "\n",
    "\n"
   ]
  },
  {
   "cell_type": "markdown",
   "metadata": {},
   "source": [
    "# Question 3\n",
    "- Struggled --> Bubble Sort"
   ]
  },
  {
   "cell_type": "code",
   "execution_count": 6,
   "metadata": {
    "scrolled": true
   },
   "outputs": [
    {
     "name": "stdout",
     "output_type": "stream",
     "text": [
      "TRUCK001: 3 Work Orders\n",
      "TRUCK002: 2 Work Orders\n",
      "TRUCK003: 1 Work Orders\n"
     ]
    }
   ],
   "source": [
    "# Question 3 sorted list\n",
    "\n",
    "truck_total=len(set((data_frame['Machine Type'].values)))\n",
    "order_count=[]\n",
    "truck_list=[]\n",
    "for i in range(truck_total):\n",
    "    order_count.append(len(data_frame[data_frame['Machine Type'] == \"TRUCK 00\"+str(i+1)]))\n",
    "    truck_list.append(len(data_frame[data_frame['Machine Type'] == \"TRUCK 00\"+str(i+1)]))\n",
    "    truck_list[i]=['TRUCK00'+str(i+1),order_count[i]]\n",
    "for i in range(len(order_count)):\n",
    "    for j in range(len(order_count)):\n",
    "        if truck_list[i][1] > truck_list[j][1]:\n",
    "            truck_list[i][1],truck_list[j][1] =  truck_list[j][1],truck_list[i][1]\n",
    "    \n",
    "for i in range(len(truck_list)):\n",
    "    print(str(truck_list[i][0])+ ': ' + str(truck_list[i][1]) + ' Work Orders')\n",
    "    "
   ]
  },
  {
   "cell_type": "markdown",
   "metadata": {},
   "source": [
    "#Question 4\n",
    "- Similar problem of only being compatible with the parts given.\n",
    "- If engine count is equal it could break"
   ]
  },
  {
   "cell_type": "code",
   "execution_count": 7,
   "metadata": {},
   "outputs": [
    {
     "name": "stdout",
     "output_type": "stream",
     "text": [
      "Engine is the part most replaced: 4\n"
     ]
    }
   ],
   "source": [
    "# Question 4 - Find the part that was most replaced.\n",
    "engine_count = data_frame[data_frame['Main Part Replaced'] == \"Engine\"]\n",
    "wheel_count = data_frame[data_frame['Main Part Replaced'] == \"Wheel\"]\n",
    "ac_count = data_frame[data_frame['Main Part Replaced'] == \"Air Conditioning\"]\n",
    "\n",
    "part1_replaced = len(engine_count)\n",
    "part2_replaced = len(wheel_count)\n",
    "part3_replaced = len(ac_count)\n",
    "\n",
    "\n",
    "\n",
    "if part1_replaced > part2_replaced and part1_replaced > part3_replaced:\n",
    "    print(\"Engine is the part most replaced: \" + str(len(engine_count)))\n",
    "if part2_replaced > part1_replaced and part2_replaced > part3_replaced:\n",
    "    print(\"Wheel is the part most replaced: \" + str(len(wheel_count)))\n",
    "if part3_replaced > part1_replaced and part3_replaced > part2_replaced:\n",
    "    print(\"Air Conditioning is the most part replaced: \" + str(len(ac_count)))\n"
   ]
  },
  {
   "cell_type": "markdown",
   "metadata": {},
   "source": [
    "#Question 5 - Link between date and part most replaced?\n",
    "All in the summer, not enough data.\n"
   ]
  },
  {
   "cell_type": "code",
   "execution_count": null,
   "metadata": {},
   "outputs": [],
   "source": []
  },
  {
   "cell_type": "code",
   "execution_count": 8,
   "metadata": {},
   "outputs": [
    {
     "data": {
      "text/html": [
       "<div>\n",
       "<style scoped>\n",
       "    .dataframe tbody tr th:only-of-type {\n",
       "        vertical-align: middle;\n",
       "    }\n",
       "\n",
       "    .dataframe tbody tr th {\n",
       "        vertical-align: top;\n",
       "    }\n",
       "\n",
       "    .dataframe thead th {\n",
       "        text-align: right;\n",
       "    }\n",
       "</style>\n",
       "<table border=\"1\" class=\"dataframe\">\n",
       "  <thead>\n",
       "    <tr style=\"text-align: right;\">\n",
       "      <th></th>\n",
       "      <th>Machine Type</th>\n",
       "      <th>Main Part Replaced</th>\n",
       "      <th>Assigned Maintenance Person</th>\n",
       "      <th>Labour Hours</th>\n",
       "    </tr>\n",
       "  </thead>\n",
       "  <tbody>\n",
       "    <tr>\n",
       "      <th>0</th>\n",
       "      <td>TRUCK 001</td>\n",
       "      <td>Engine</td>\n",
       "      <td>Donald Knuth</td>\n",
       "      <td>11</td>\n",
       "    </tr>\n",
       "    <tr>\n",
       "      <th>1</th>\n",
       "      <td>TRUCK 001</td>\n",
       "      <td>Engine</td>\n",
       "      <td>Donald Knuth</td>\n",
       "      <td>14</td>\n",
       "    </tr>\n",
       "    <tr>\n",
       "      <th>2</th>\n",
       "      <td>TRUCK 001</td>\n",
       "      <td>Engine</td>\n",
       "      <td>Donald Knuth</td>\n",
       "      <td>13</td>\n",
       "    </tr>\n",
       "    <tr>\n",
       "      <th>3</th>\n",
       "      <td>TRUCK 001</td>\n",
       "      <td>Engine</td>\n",
       "      <td>Donald Knuth</td>\n",
       "      <td>14</td>\n",
       "    </tr>\n",
       "    <tr>\n",
       "      <th>4</th>\n",
       "      <td>TRUCK 001</td>\n",
       "      <td>Engine</td>\n",
       "      <td>Donald Knuth</td>\n",
       "      <td>14</td>\n",
       "    </tr>\n",
       "    <tr>\n",
       "      <th>5</th>\n",
       "      <td>TRUCK 001</td>\n",
       "      <td>Engine</td>\n",
       "      <td>Donald Knuth</td>\n",
       "      <td>14</td>\n",
       "    </tr>\n",
       "    <tr>\n",
       "      <th>6</th>\n",
       "      <td>TRUCK 001</td>\n",
       "      <td>Engine</td>\n",
       "      <td>Donald Knuth</td>\n",
       "      <td>13</td>\n",
       "    </tr>\n",
       "    <tr>\n",
       "      <th>7</th>\n",
       "      <td>TRUCK 001</td>\n",
       "      <td>Engine</td>\n",
       "      <td>John Carmack</td>\n",
       "      <td>10</td>\n",
       "    </tr>\n",
       "    <tr>\n",
       "      <th>8</th>\n",
       "      <td>TRUCK 001</td>\n",
       "      <td>Engine</td>\n",
       "      <td>John Carmack</td>\n",
       "      <td>9</td>\n",
       "    </tr>\n",
       "    <tr>\n",
       "      <th>9</th>\n",
       "      <td>TRUCK 001</td>\n",
       "      <td>Engine</td>\n",
       "      <td>John Carmack</td>\n",
       "      <td>12</td>\n",
       "    </tr>\n",
       "    <tr>\n",
       "      <th>10</th>\n",
       "      <td>TRUCK 001</td>\n",
       "      <td>Engine</td>\n",
       "      <td>John Carmack</td>\n",
       "      <td>99</td>\n",
       "    </tr>\n",
       "    <tr>\n",
       "      <th>11</th>\n",
       "      <td>TRUCK 001</td>\n",
       "      <td>Engine</td>\n",
       "      <td>John Carmack</td>\n",
       "      <td>10</td>\n",
       "    </tr>\n",
       "    <tr>\n",
       "      <th>12</th>\n",
       "      <td>TRUCK 001</td>\n",
       "      <td>Engine</td>\n",
       "      <td>John Carmack</td>\n",
       "      <td>9</td>\n",
       "    </tr>\n",
       "    <tr>\n",
       "      <th>13</th>\n",
       "      <td>TRUCK 001</td>\n",
       "      <td>Engine</td>\n",
       "      <td>John Carmack</td>\n",
       "      <td>9</td>\n",
       "    </tr>\n",
       "  </tbody>\n",
       "</table>\n",
       "</div>"
      ],
      "text/plain": [
       "   Machine Type Main Part Replaced Assigned Maintenance Person  Labour Hours\n",
       "0     TRUCK 001             Engine                Donald Knuth            11\n",
       "1     TRUCK 001             Engine                Donald Knuth            14\n",
       "2     TRUCK 001             Engine                Donald Knuth            13\n",
       "3     TRUCK 001             Engine                Donald Knuth            14\n",
       "4     TRUCK 001             Engine                Donald Knuth            14\n",
       "5     TRUCK 001             Engine                Donald Knuth            14\n",
       "6     TRUCK 001             Engine                Donald Knuth            13\n",
       "7     TRUCK 001             Engine                John Carmack            10\n",
       "8     TRUCK 001             Engine                John Carmack             9\n",
       "9     TRUCK 001             Engine                John Carmack            12\n",
       "10    TRUCK 001             Engine                John Carmack            99\n",
       "11    TRUCK 001             Engine                John Carmack            10\n",
       "12    TRUCK 001             Engine                John Carmack             9\n",
       "13    TRUCK 001             Engine                John Carmack             9"
      ]
     },
     "execution_count": 8,
     "metadata": {},
     "output_type": "execute_result"
    }
   ],
   "source": [
    "import pandas\n",
    "import math\n",
    "import numpy\n",
    "data_frame = pandas.read_csv(\"Dataset/engine_work_orders_with_labour_hrs.csv\")\n",
    "data_frame"
   ]
  },
  {
   "cell_type": "markdown",
   "metadata": {},
   "source": [
    "# Question 1\n",
    "Nominal vs Interval Ratio\n"
   ]
  },
  {
   "cell_type": "markdown",
   "metadata": {},
   "source": [
    "# Question 2\n",
    "- Made a count for labour hours called donald_jobs / john_jobs\n",
    "- Found means and compared."
   ]
  },
  {
   "cell_type": "code",
   "execution_count": 9,
   "metadata": {},
   "outputs": [
    {
     "name": "stdout",
     "output_type": "stream",
     "text": [
      "Mean time taken:\n",
      "Donald Knuth:13.2\n",
      "John Carmack:22.5\n",
      "Therefore Donald was the quickest \n"
     ]
    }
   ],
   "source": [
    "donald = []\n",
    "john = []\n",
    "donald_jobs = len(data_frame[data_frame['Assigned Maintenance Person']== \"Donald Knuth\"])\n",
    "john_jobs = len(data_frame[data_frame['Assigned Maintenance Person']== \"John Carmack\"])\n",
    "for i in range(donald_jobs):\n",
    "    donald.append(data_frame['Labour Hours'].values[i])\n",
    "for i in range(7,7+john_jobs):\n",
    "    john.append(data_frame['Labour Hours'].values[i])\n",
    "donald_mean=numpy.mean(donald)\n",
    "john_mean=numpy.mean(john)\n",
    "print('Mean time taken:')\n",
    "print('Donald Knuth:'+str(donald_mean)[:4])\n",
    "print('John Carmack:'+str(john_mean)[:4])\n",
    "maximum=(max(donald_mean,john_mean))\n",
    "if maximum==john_mean:\n",
    "    print('Therefore Donald was the quickest ')\n",
    "else:\n",
    "    print('Therefore John was the quickest')\n",
    "\n"
   ]
  },
  {
   "cell_type": "markdown",
   "metadata": {},
   "source": []
  },
  {
   "cell_type": "code",
   "execution_count": 10,
   "metadata": {},
   "outputs": [
    {
     "name": "stdout",
     "output_type": "stream",
     "text": [
      "Median time taken(including outliers):\n",
      "Donald Knuth:14\n",
      "John Carmack:10\n"
     ]
    }
   ],
   "source": [
    "# Median including outliers\n",
    "donald = sorted(donald)\n",
    "donald_median = donald[int(len(donald)/2)]\n",
    "john = sorted(john)\n",
    "john_median = john[int(len(john)/2)]\n",
    "print('Median time taken(including outliers):')\n",
    "print('Donald Knuth:'+ str(donald_median))\n",
    "print('John Carmack:'+ str(john_median))"
   ]
  },
  {
   "cell_type": "code",
   "execution_count": 11,
   "metadata": {},
   "outputs": [
    {
     "name": "stdout",
     "output_type": "stream",
     "text": [
      "JOHN: [9, 9, 9, 10, 10, 12, 99]\n",
      "99 is an outlier\n",
      "With outliers removed: [9, 9, 9, 10, 10, 12]\n",
      "JOHN: [11, 13, 13, 14, 14, 14, 14]\n",
      "11 is an outlier\n",
      "With outliers removed: [13, 13, 14, 14, 14, 14]\n"
     ]
    }
   ],
   "source": [
    "#OUTLIERS\n",
    "john_std = numpy.std(john)\n",
    "print('JOHN: ' + str(john))\n",
    "john_clean=john.copy()\n",
    "\n",
    "for i in range(len(john)):\n",
    "    if john[i]> john_mean + john_std  or  john[i]< john_mean- john_std:\n",
    "        print(str(john[i]) + \" is an outlier\")\n",
    "        del john_clean[i]\n",
    "print(\"With outliers removed: \" + str(john_clean))\n",
    "\n",
    "donald_std = numpy.std(donald)\n",
    "print('JOHN: ' + str(donald))\n",
    "donald_clean=donald.copy()\n",
    "\n",
    "for i in range(len(donald)):\n",
    "    if donald[i]> donald_mean + donald_std  or  donald[i]< donald_mean- donald_std:\n",
    "        print(str(donald[i]) + \" is an outlier\")\n",
    "        del donald_clean[i]\n",
    "print(\"With outliers removed: \" + str(donald_clean)) "
   ]
  },
  {
   "cell_type": "code",
   "execution_count": 12,
   "metadata": {},
   "outputs": [],
   "source": [
    "john_clean_mean = numpy.mean(john_clean)\n",
    "donald_clean_mean = numpy.mean(donald_clean)\n",
    "john_clean_median = numpy.median(john_clean)\n",
    "donald_clean_median = numpy.median(donald_clean)"
   ]
  },
  {
   "cell_type": "code",
   "execution_count": 23,
   "metadata": {},
   "outputs": [
    {
     "data": {
      "image/png": "[encoded data removed]",
      "text/plain": [
       "<Figure size 432x288 with 1 Axes>"
      ]
     },
     "metadata": {},
     "output_type": "display_data"
    }
   ],
   "source": [
    "# QUESTION 7\n",
    "import matplotlib as mpl\n",
    "import matplotlib.pyplot as plt\n",
    "donald_metrics = (13.2857, 14, 13.6667, 14)\n",
    "john_metrics = (22.5714, 10, 9.833, 9.5)\n",
    "\n",
    "ind = np.arange(len(donald_metrics))  \n",
    "width = 0.35  \n",
    "\n",
    "fig, ax = plt.subplots()\n",
    "rects1 = ax.bar(ind - width/2, donald_metrics, width,\n",
    "                color='SkyBlue', label='Donald')\n",
    "rects2 = ax.bar(ind + width/2, john_metrics, width,\n",
    "                color='IndianRed', label='John')\n",
    "\n",
    "\n",
    "ax.set_ylabel('Labour Hours')\n",
    "ax.set_title('Labour Hour Metrics')\n",
    "ax.set_xticklabels(('', '', 'ALH', '',  'MDLH','', 'CALH', '', 'CMDLH'))\n",
    "\n",
    "ax.legend()\n",
    "\n",
    "plt.show()"
   ]
  },
  {
   "cell_type": "code",
   "execution_count": 14,
   "metadata": {},
   "outputs": [
    {
     "data": {
      "text/plain": [
       "[[13, 13, 14, 14, 14, 14], [9, 9, 9, 10, 10, 12]]"
      ]
     },
     "execution_count": 14,
     "metadata": {},
     "output_type": "execute_result"
    },
    {
     "data": {
      "image/png": "[encoded data removed]",
      "text/plain": [
       "<Figure size 432x432 with 1 Axes>"
      ]
     },
     "metadata": {},
     "output_type": "display_data"
    }
   ],
   "source": [
    "# QUESTION 9\n",
    "\n",
    "import numpy as np \n",
    "import matplotlib as mpl \n",
    "import matplotlib.pyplot as plt \n",
    "\n",
    "data_to_plot = [donald_clean, john_clean]\n",
    "\n",
    "fig = plt.figure(1, figsize=(6, 6))\n",
    "\n",
    "ax = fig.add_subplot(111)\n",
    "\n",
    "ax.set_title('BoxPlot Of Average Time For Employee To Fix Engine')\n",
    "\n",
    "bp = ax.boxplot(data_to_plot)\n",
    "\n",
    "fig.savefig('fig1.png', bbox_inches='tight')\n",
    "\n",
    "data_to_plot"
   ]
  },
  {
   "cell_type": "code",
   "execution_count": 24,
   "metadata": {},
   "outputs": [
    {
     "name": "stdout",
     "output_type": "stream",
     "text": [
      "   Machine Type Main Part Replaced Assigned Maintenance Person  Labour Hours\n",
      "0     TRUCK 001             Engine                Donald Knuth          11.0\n",
      "1     TRUCK 001             Engine               Donald Knuth…          14.0\n",
      "2     TRUCK 001             Engine                Donald Knuth          13.0\n",
      "3     TRUCK 001             Engine                Donald Knuth          14.0\n",
      "4     TRUCK 001             Engine                Donald Knuth          14.0\n",
      "5     TRUCK 001             Engine                Donald Knuth          14.0\n",
      "6     TRUCK 001             Engine                   Don Knuth          13.0\n",
      "7     TRUCK 001             Engine                john carmack          10.0\n",
      "8      TRUCK 01             Engine                John Carmack           9.0\n",
      "9     TRUCK 001             Engine                John Carmack          12.0\n",
      "10    TRUCK 001             Engine                John Carmack          99.0\n",
      "11    TRUCK 001             engine                John Carmack          10.0\n",
      "12    TRUCK 001             Enjine                John Carmark           9.0\n",
      "13    TRUCK 001                Eng                John Carmack           9.0\n",
      "14    TRUCK_001              Wheel                Donald Knuth           5.0\n",
      "15    TRUCK 001              Wheel              {Donald Knuth}           3.0\n",
      "16    TRUCK 001               WHEL                Donald Knuth           5.0\n",
      "17    TRUCK 001              Wheel                Donald Knuth           5.0\n",
      "18    TRUCK 001              Wheel                John Carmack           NaN\n",
      "19    TRUCK 001              Wheel                John Carmack           3.0\n",
      "20    TRUCK 001              Wheel                John Carmack           3.0\n",
      "21    TRUCK 001              Wheel                John Carmack           6.0\n",
      "22    TRUCK 001            Exhaust                John Carmack           4.0\n",
      "23    TRUCK 001            EXHAUST                Donald Knuth           5.0\n",
      "24    TRUCK 001            Exhaust                Donald Knuth           4.0\n",
      "25    TRUCK 001   Air Conditioning                Donald Knuth           5.0\n",
      "26    TRUCK 001   Air Conditioning                Donald Knuth           7.0\n",
      "27    TRUCK 001            Air Con                Donald Knuth           4.0\n",
      "28      TRUCK 1   Air Conditioning                Donald Knuth           7.0\n",
      "29    TRUCK 001   Air Conditioning                John Carmack          10.0\n",
      "30    TRUCK 001   Air Conditioning                John Carmack           8.0\n",
      "31    TRUCK 001                                                          NaN\n",
      "32    TRUCK 001                 AC                  J. Carmack           7.0\n",
      "33    TRUCK 001   Air Conditioning                John Carmack           9.0\n",
      "34    TRUCK 001                A/C                John Carmack           4.0\n",
      "35    TRUCK 001             AirCon                John Carmack           5.0\n",
      "John Carmack\n"
     ]
    }
   ],
   "source": [
    "# Function for deciding which employee it is\n",
    "import pandas\n",
    "import numpy as np\n",
    "data_frame = pandas.read_csv(\"Dataset/unclean_work_orders_with_labour_hrs.csv\")\n",
    "print(data_frame)\n",
    "def donorjohn(name):\n",
    "    name = str(name)\n",
    "    for t in range(len(name)):    \n",
    "        if name[t] == 'd' or name[t] == 'D':\n",
    "            return 'Donald Knuth'\n",
    "        elif name[t] == 'j' or name[t] == 'J':\n",
    "            return 'John Carmack'\n",
    "    \n",
    "    return 'NULL'\n",
    "    \n",
    "testname = 'Jon Knuth'\n",
    "print(donorjohn(testname))\n",
    "\n",
    "# create a list of correct names\n",
    "correct_names=[]\n",
    "for name in data_frame['Assigned Maintenance Person']:\n",
    "    correct_names.append(donorjohn(name))    \n",
    "    "
   ]
  },
  {
   "cell_type": "code",
   "execution_count": 16,
   "metadata": {},
   "outputs": [
    {
     "data": {
      "text/plain": [
       "'Wheel'"
      ]
     },
     "execution_count": 16,
     "metadata": {},
     "output_type": "execute_result"
    }
   ],
   "source": [
    "# Function to filter the parts \n",
    "def filterparts(part):\n",
    "    part = str(part)\n",
    "    \n",
    "    if part[0] == 'E' or part[0] == 'e':\n",
    "        if part[1] == 'N' or part[1] == 'n':\n",
    "            return 'Engine'\n",
    "        return 'Exhaust'    \n",
    "    elif part[0] == 'A' or part[0] == 'a':\n",
    "        return 'Air Conditioning'\n",
    "    elif part[0] == 'W' or part[0] == 'w':\n",
    "        return 'Wheel'\n",
    "    \n",
    "    return 'NULL'\n",
    "    \n",
    "filterparts('whe')\n",
    "    "
   ]
  },
  {
   "cell_type": "code",
   "execution_count": 17,
   "metadata": {},
   "outputs": [],
   "source": [
    "# Create a list of correct parts\n",
    "correct_parts=[]\n",
    "for parts in data_frame['Main Part Replaced']:\n",
    "    correct_parts.append(filterparts(parts)) \n",
    "\n"
   ]
  },
  {
   "cell_type": "code",
   "execution_count": 18,
   "metadata": {},
   "outputs": [],
   "source": [
    "import math\n",
    "\n",
    "# Function to Filter the labour hours\n",
    "def filterhours(number):\n",
    "    if math.isnan(number):\n",
    "        \n",
    "        return(\"NULL\")\n",
    "    else:\n",
    "        return(int(number))\n",
    "correct_hours = []    \n",
    "for hr in data_frame['Labour Hours'].values:\n",
    "    correct_hours.append(filterhours(hr))"
   ]
  },
  {
   "cell_type": "code",
   "execution_count": 19,
   "metadata": {},
   "outputs": [
    {
     "name": "stdout",
     "output_type": "stream",
     "text": [
      "['Engine', 'Donald Knuth', 11]\n",
      "['Engine', 'Donald Knuth', 14]\n",
      "['Engine', 'Donald Knuth', 13]\n",
      "['Engine', 'Donald Knuth', 14]\n",
      "['Engine', 'Donald Knuth', 14]\n",
      "['Engine', 'Donald Knuth', 14]\n",
      "['Engine', 'Donald Knuth', 13]\n",
      "['Engine', 'John Carmack', 10]\n",
      "['Engine', 'John Carmack', 9]\n",
      "['Engine', 'John Carmack', 12]\n",
      "['Engine', 'John Carmack', 99]\n",
      "['Engine', 'John Carmack', 10]\n",
      "['Engine', 'John Carmack', 9]\n",
      "['Engine', 'John Carmack', 9]\n",
      "['Wheel', 'Donald Knuth', 5]\n",
      "['Wheel', 'Donald Knuth', 3]\n",
      "['Wheel', 'Donald Knuth', 5]\n",
      "['Wheel', 'Donald Knuth', 5]\n",
      "['Wheel', 'John Carmack', 'NULL']\n",
      "['Wheel', 'John Carmack', 3]\n",
      "['Wheel', 'John Carmack', 3]\n",
      "['Wheel', 'John Carmack', 6]\n",
      "['Exhaust', 'John Carmack', 4]\n",
      "['Exhaust', 'Donald Knuth', 5]\n",
      "['Exhaust', 'Donald Knuth', 4]\n",
      "['Air Conditioning', 'Donald Knuth', 5]\n",
      "['Air Conditioning', 'Donald Knuth', 7]\n",
      "['Air Conditioning', 'Donald Knuth', 4]\n",
      "['Air Conditioning', 'Donald Knuth', 7]\n",
      "['Air Conditioning', 'John Carmack', 10]\n",
      "['Air Conditioning', 'John Carmack', 8]\n",
      "['NULL', 'NULL', 'NULL']\n",
      "['Air Conditioning', 'John Carmack', 7]\n",
      "['Air Conditioning', 'John Carmack', 9]\n",
      "['Air Conditioning', 'John Carmack', 4]\n",
      "['Air Conditioning', 'John Carmack', 5]\n"
     ]
    }
   ],
   "source": [
    "# Create a 2D array of all the correct lists \n",
    "correct_frame = []\n",
    "for i in range(len(data_frame['Assigned Maintenance Person'])):\n",
    "    correct_frame.append([])\n",
    "    correct_frame[i].append(correct_parts[i])\n",
    "    correct_frame[i].append(correct_names[i])\n",
    "    correct_frame[i].append(correct_hours[i])\n",
    "    print(correct_frame[i])"
   ]
  },
  {
   "cell_type": "code",
   "execution_count": 20,
   "metadata": {},
   "outputs": [
    {
     "name": "stdout",
     "output_type": "stream",
     "text": [
      "13.0\n",
      "[['Engine', 'John Carmack', 10], ['Engine', 'John Carmack', 9], ['Engine', 'John Carmack', 12], ['Engine', 'John Carmack', 99], ['Engine', 'John Carmack', 10], ['Engine', 'John Carmack', 9], ['Engine', 'John Carmack', 9], ['Wheel', 'John Carmack', 'NULL'], ['Wheel', 'John Carmack', 3], ['Wheel', 'John Carmack', 3], ['Wheel', 'John Carmack', 6], ['Exhaust', 'John Carmack', 4], ['Air Conditioning', 'John Carmack', 10], ['Air Conditioning', 'John Carmack', 8], ['Air Conditioning', 'John Carmack', 7], ['Air Conditioning', 'John Carmack', 9], ['Air Conditioning', 'John Carmack', 4], ['Air Conditioning', 'John Carmack', 5]]\n",
      "32.5\n"
     ]
    },
    {
     "data": {
      "text/html": [
       "<div>\n",
       "<style scoped>\n",
       "    .dataframe tbody tr th:only-of-type {\n",
       "        vertical-align: middle;\n",
       "    }\n",
       "\n",
       "    .dataframe tbody tr th {\n",
       "        vertical-align: top;\n",
       "    }\n",
       "\n",
       "    .dataframe thead th {\n",
       "        text-align: right;\n",
       "    }\n",
       "</style>\n",
       "<table border=\"1\" class=\"dataframe\">\n",
       "  <thead>\n",
       "    <tr style=\"text-align: right;\">\n",
       "      <th></th>\n",
       "      <th>Part</th>\n",
       "      <th>Name</th>\n",
       "      <th>Hours</th>\n",
       "    </tr>\n",
       "  </thead>\n",
       "  <tbody>\n",
       "    <tr>\n",
       "      <th>0</th>\n",
       "      <td>Engine</td>\n",
       "      <td>Donald Knuth</td>\n",
       "      <td>11</td>\n",
       "    </tr>\n",
       "    <tr>\n",
       "      <th>1</th>\n",
       "      <td>Engine</td>\n",
       "      <td>Donald Knuth</td>\n",
       "      <td>14</td>\n",
       "    </tr>\n",
       "    <tr>\n",
       "      <th>2</th>\n",
       "      <td>Engine</td>\n",
       "      <td>Donald Knuth</td>\n",
       "      <td>13</td>\n",
       "    </tr>\n",
       "    <tr>\n",
       "      <th>3</th>\n",
       "      <td>Engine</td>\n",
       "      <td>Donald Knuth</td>\n",
       "      <td>14</td>\n",
       "    </tr>\n",
       "    <tr>\n",
       "      <th>4</th>\n",
       "      <td>Engine</td>\n",
       "      <td>Donald Knuth</td>\n",
       "      <td>14</td>\n",
       "    </tr>\n",
       "    <tr>\n",
       "      <th>5</th>\n",
       "      <td>Engine</td>\n",
       "      <td>Donald Knuth</td>\n",
       "      <td>14</td>\n",
       "    </tr>\n",
       "    <tr>\n",
       "      <th>6</th>\n",
       "      <td>Engine</td>\n",
       "      <td>Donald Knuth</td>\n",
       "      <td>13</td>\n",
       "    </tr>\n",
       "    <tr>\n",
       "      <th>7</th>\n",
       "      <td>Engine</td>\n",
       "      <td>John Carmack</td>\n",
       "      <td>10</td>\n",
       "    </tr>\n",
       "    <tr>\n",
       "      <th>8</th>\n",
       "      <td>Engine</td>\n",
       "      <td>John Carmack</td>\n",
       "      <td>9</td>\n",
       "    </tr>\n",
       "    <tr>\n",
       "      <th>9</th>\n",
       "      <td>Engine</td>\n",
       "      <td>John Carmack</td>\n",
       "      <td>12</td>\n",
       "    </tr>\n",
       "    <tr>\n",
       "      <th>10</th>\n",
       "      <td>Engine</td>\n",
       "      <td>John Carmack</td>\n",
       "      <td>99</td>\n",
       "    </tr>\n",
       "    <tr>\n",
       "      <th>11</th>\n",
       "      <td>Engine</td>\n",
       "      <td>John Carmack</td>\n",
       "      <td>10</td>\n",
       "    </tr>\n",
       "    <tr>\n",
       "      <th>12</th>\n",
       "      <td>Engine</td>\n",
       "      <td>John Carmack</td>\n",
       "      <td>9</td>\n",
       "    </tr>\n",
       "    <tr>\n",
       "      <th>13</th>\n",
       "      <td>Engine</td>\n",
       "      <td>John Carmack</td>\n",
       "      <td>9</td>\n",
       "    </tr>\n",
       "    <tr>\n",
       "      <th>14</th>\n",
       "      <td>Wheel</td>\n",
       "      <td>Donald Knuth</td>\n",
       "      <td>5</td>\n",
       "    </tr>\n",
       "    <tr>\n",
       "      <th>15</th>\n",
       "      <td>Wheel</td>\n",
       "      <td>Donald Knuth</td>\n",
       "      <td>3</td>\n",
       "    </tr>\n",
       "    <tr>\n",
       "      <th>16</th>\n",
       "      <td>Wheel</td>\n",
       "      <td>Donald Knuth</td>\n",
       "      <td>5</td>\n",
       "    </tr>\n",
       "    <tr>\n",
       "      <th>17</th>\n",
       "      <td>Wheel</td>\n",
       "      <td>Donald Knuth</td>\n",
       "      <td>5</td>\n",
       "    </tr>\n",
       "    <tr>\n",
       "      <th>18</th>\n",
       "      <td>Wheel</td>\n",
       "      <td>John Carmack</td>\n",
       "      <td>NULL</td>\n",
       "    </tr>\n",
       "    <tr>\n",
       "      <th>19</th>\n",
       "      <td>Wheel</td>\n",
       "      <td>John Carmack</td>\n",
       "      <td>3</td>\n",
       "    </tr>\n",
       "    <tr>\n",
       "      <th>20</th>\n",
       "      <td>Wheel</td>\n",
       "      <td>John Carmack</td>\n",
       "      <td>3</td>\n",
       "    </tr>\n",
       "    <tr>\n",
       "      <th>21</th>\n",
       "      <td>Wheel</td>\n",
       "      <td>John Carmack</td>\n",
       "      <td>6</td>\n",
       "    </tr>\n",
       "    <tr>\n",
       "      <th>22</th>\n",
       "      <td>Exhaust</td>\n",
       "      <td>John Carmack</td>\n",
       "      <td>4</td>\n",
       "    </tr>\n",
       "    <tr>\n",
       "      <th>23</th>\n",
       "      <td>Exhaust</td>\n",
       "      <td>Donald Knuth</td>\n",
       "      <td>5</td>\n",
       "    </tr>\n",
       "    <tr>\n",
       "      <th>24</th>\n",
       "      <td>Exhaust</td>\n",
       "      <td>Donald Knuth</td>\n",
       "      <td>4</td>\n",
       "    </tr>\n",
       "    <tr>\n",
       "      <th>25</th>\n",
       "      <td>Air Conditioning</td>\n",
       "      <td>Donald Knuth</td>\n",
       "      <td>5</td>\n",
       "    </tr>\n",
       "    <tr>\n",
       "      <th>26</th>\n",
       "      <td>Air Conditioning</td>\n",
       "      <td>Donald Knuth</td>\n",
       "      <td>7</td>\n",
       "    </tr>\n",
       "    <tr>\n",
       "      <th>27</th>\n",
       "      <td>Air Conditioning</td>\n",
       "      <td>Donald Knuth</td>\n",
       "      <td>4</td>\n",
       "    </tr>\n",
       "    <tr>\n",
       "      <th>28</th>\n",
       "      <td>Air Conditioning</td>\n",
       "      <td>Donald Knuth</td>\n",
       "      <td>7</td>\n",
       "    </tr>\n",
       "    <tr>\n",
       "      <th>29</th>\n",
       "      <td>Air Conditioning</td>\n",
       "      <td>John Carmack</td>\n",
       "      <td>10</td>\n",
       "    </tr>\n",
       "    <tr>\n",
       "      <th>30</th>\n",
       "      <td>Air Conditioning</td>\n",
       "      <td>John Carmack</td>\n",
       "      <td>8</td>\n",
       "    </tr>\n",
       "    <tr>\n",
       "      <th>31</th>\n",
       "      <td>NULL</td>\n",
       "      <td>NULL</td>\n",
       "      <td>NULL</td>\n",
       "    </tr>\n",
       "    <tr>\n",
       "      <th>32</th>\n",
       "      <td>Air Conditioning</td>\n",
       "      <td>John Carmack</td>\n",
       "      <td>7</td>\n",
       "    </tr>\n",
       "    <tr>\n",
       "      <th>33</th>\n",
       "      <td>Air Conditioning</td>\n",
       "      <td>John Carmack</td>\n",
       "      <td>9</td>\n",
       "    </tr>\n",
       "    <tr>\n",
       "      <th>34</th>\n",
       "      <td>Air Conditioning</td>\n",
       "      <td>John Carmack</td>\n",
       "      <td>4</td>\n",
       "    </tr>\n",
       "    <tr>\n",
       "      <th>35</th>\n",
       "      <td>Air Conditioning</td>\n",
       "      <td>John Carmack</td>\n",
       "      <td>5</td>\n",
       "    </tr>\n",
       "  </tbody>\n",
       "</table>\n",
       "</div>"
      ],
      "text/plain": [
       "                Part          Name Hours\n",
       "0             Engine  Donald Knuth    11\n",
       "1             Engine  Donald Knuth    14\n",
       "2             Engine  Donald Knuth    13\n",
       "3             Engine  Donald Knuth    14\n",
       "4             Engine  Donald Knuth    14\n",
       "5             Engine  Donald Knuth    14\n",
       "6             Engine  Donald Knuth    13\n",
       "7             Engine  John Carmack    10\n",
       "8             Engine  John Carmack     9\n",
       "9             Engine  John Carmack    12\n",
       "10            Engine  John Carmack    99\n",
       "11            Engine  John Carmack    10\n",
       "12            Engine  John Carmack     9\n",
       "13            Engine  John Carmack     9\n",
       "14             Wheel  Donald Knuth     5\n",
       "15             Wheel  Donald Knuth     3\n",
       "16             Wheel  Donald Knuth     5\n",
       "17             Wheel  Donald Knuth     5\n",
       "18             Wheel  John Carmack  NULL\n",
       "19             Wheel  John Carmack     3\n",
       "20             Wheel  John Carmack     3\n",
       "21             Wheel  John Carmack     6\n",
       "22           Exhaust  John Carmack     4\n",
       "23           Exhaust  Donald Knuth     5\n",
       "24           Exhaust  Donald Knuth     4\n",
       "25  Air Conditioning  Donald Knuth     5\n",
       "26  Air Conditioning  Donald Knuth     7\n",
       "27  Air Conditioning  Donald Knuth     4\n",
       "28  Air Conditioning  Donald Knuth     7\n",
       "29  Air Conditioning  John Carmack    10\n",
       "30  Air Conditioning  John Carmack     8\n",
       "31              NULL          NULL  NULL\n",
       "32  Air Conditioning  John Carmack     7\n",
       "33  Air Conditioning  John Carmack     9\n",
       "34  Air Conditioning  John Carmack     4\n",
       "35  Air Conditioning  John Carmack     5"
      ]
     },
     "execution_count": 20,
     "metadata": {},
     "output_type": "execute_result"
    }
   ],
   "source": [
    "#Separate the corrected frame into one for each employee\n",
    "donald_list = []\n",
    "john_list = []\n",
    "def employee_sorter(array):\n",
    "    for i in range(len(array)):\n",
    "        if array[i][1] == 'Donald Knuth':\n",
    "            donald_list.append(array[i])\n",
    "            \n",
    "        elif array[i][1] == 'John Carmack':\n",
    "            john_list.append(array[i])\n",
    "\n",
    "#Function to estimate hours taken given employee and part\n",
    "def estimate_hours(employee , part):\n",
    "    nu_list=[]\n",
    "    nu_hours=[]\n",
    "    a=0\n",
    "    for i in range(len(employee)):\n",
    "        if employee[i][0] == part :\n",
    "            nu_list.append(employee[a])\n",
    "            nu_hours.append(nu_list[a][2])\n",
    "            a+=1\n",
    "    return np.mean(nu_hours)\n",
    "    \n",
    "    \n",
    "            \n",
    "employee_sorter(correct_frame)\n",
    "print(estimate_hours(donald_list, 'Wheel'))\n",
    "print(john_list)\n",
    "print(estimate_hours(john_list, 'Wheel'))\n",
    "correct_df = pandas.DataFrame(correct_frame, columns=['Part', 'Name', 'Hours'])\n",
    "correct_df.to_csv('charlie_df.csv')\n",
    "correct_df\n",
    "            "
   ]
  },
  {
   "cell_type": "code",
   "execution_count": 21,
   "metadata": {},
   "outputs": [
    {
     "name": "stdout",
     "output_type": "stream",
     "text": [
      "[13.285714285714286, 13.0, 12.5, 13.0]\n",
      "[22.571428571428573, 4.0, 10.0, 24.833333333333332]\n"
     ]
    }
   ],
   "source": [
    "# calculate data for maxs charts\n",
    "\n",
    "donald_means = [] \n",
    "donald_means.append(estimate_hours(donald_list,\"Engine\"))\n",
    "donald_means.append(estimate_hours(donald_list,\"Wheel\"))\n",
    "donald_means.append(estimate_hours(donald_list,\"Exhaust\"))\n",
    "donald_means.append(estimate_hours(donald_list,\"Air Conditioning\"))\n",
    "\n",
    "john_means = [] \n",
    "john_means.append(estimate_hours(john_list,\"Engine\"))\n",
    "john_means.append(4.0)\n",
    "john_means.append(estimate_hours(john_list,\"Exhaust\"))\n",
    "john_means.append(estimate_hours(john_list,\"Air Conditioning\"))\n",
    "\n",
    "print(donald_means)\n",
    "print(john_means)\n",
    "\n"
   ]
  },
  {
   "cell_type": "code",
   "execution_count": 22,
   "metadata": {},
   "outputs": [
    {
     "data": {
      "text/plain": [
       "<matplotlib.legend.Legend at 0x10f800668>"
      ]
     },
     "execution_count": 22,
     "metadata": {},
     "output_type": "execute_result"
    },
    {
     "data": {
      "image/png": "[encoded data removed]",
      "text/plain": [
       "<Figure size 432x288 with 1 Axes>"
      ]
     },
     "metadata": {},
     "output_type": "display_data"
    }
   ],
   "source": [
    "\n",
    "\n",
    "ind = np.arange(len(donald_means))  \n",
    "width = 0.35 \n",
    "\n",
    "fig, ax = plt.subplots()\n",
    "rects1 = ax.bar(ind - width/2, donald_means, width,\n",
    "                color='SkyBlue', label='Donald')\n",
    "rects2 = ax.bar(ind + width/2, john_means, width,\n",
    "                color='IndianRed', label='John')\n",
    "\n",
    "\n",
    "ax.set_ylabel('Mean Values')\n",
    "ax.set_title('Means For Each Part In Data')\n",
    "ax.set_xticklabels(('', '','Engine Mean', '','Wheel Mean', '', 'Exhaust Mean', '', 'AC Mean'))\n",
    "\n",
    "ax.legend()\n",
    "\n",
    "\n"
   ]
  },
  {
   "cell_type": "code",
   "execution_count": null,
   "metadata": {},
   "outputs": [],
   "source": []
  }
 ],
 "metadata": {
  "kernelspec": {
   "display_name": "Python 3",
   "language": "python",
   "name": "python3"
  },
  "language_info": {
   "codemirror_mode": {
    "name": "ipython",
    "version": 3
   },
   "file_extension": ".py",
   "mimetype": "text/x-python",
   "name": "python",
   "nbconvert_exporter": "python",
   "pygments_lexer": "ipython3",
   "version": "3.6.5"
  }
 },
 "nbformat": 4,
 "nbformat_minor": 2
}
